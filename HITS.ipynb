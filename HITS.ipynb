{
 "cells": [
  {
   "cell_type": "markdown",
   "metadata": {},
   "source": [
    "#### CSCE 670 :: Information Storage and Retrieval :: Texas A&M University :: Spring 2018\n",
    "\n",
    "\n",
    "# Homework 2:  Link Analysis -- HITS + SEO\n",
    "\n",
    "### 100 points [5% of your final grade]\n",
    "\n",
    "### Due: Sunday, February 25, 2018 by 11:59pm\n",
    "\n",
    "*Goals of this homework:* Explore real-world challenges of building a graph (in this case, from tweets), implement and test HITS algortihm over this graph, and investigate factors that impact a page's rank on Google and Bing.\n",
    "\n",
    "*Submission Instructions:* To submit your homework, rename this notebook as YOUR_UIN_hw2.ipynb. Submit this notebook via ecampus. Your notebook should be completely self-contained, with the results visible in the notebook. \n",
    "\n",
    "*Late submission policy:* For this homework, you may use up to three of your late days, meaning that no submissions will be accepted after Wednesday, February 28, 2018 at 11:59pm."
   ]
  },
  {
   "cell_type": "markdown",
   "metadata": {},
   "source": [
    "# Part 1: HITS (70 points)\n",
    "\n",
    "## A re-Tweet Graph\n",
    "\n",
    "In this assignment, we're going to adapt the classic HITS approach to allow us to find not the most authoritative web pages, but rather to find significant Twitter users. So, instead of viewing the world as web pages with hyperlinks (where pages = nodes, hyperlinks = edges), we're going to construct a graph of Twitter users and their retweets of other Twitter users (so user = node, retweet of another user = edge). Over this Twitter-user graph, we can apply the HITS approach to order the users by their hub-ness and their authority-ness.\n",
    "\n",
    "Here is a toy example. Suppose you are given the following four retweets:\n",
    "\n",
    "* **userID**: diane, **text**: \"RT \", **sourceID**: bob\n",
    "* **userID**: charlie, **text**: \"RT Welcome\", **sourceID**: alice\n",
    "* **userID**: bob, **text**: \"RT Hi \", **sourceID**: diane\n",
    "* **userID**: alice, **text**: \"RT Howdy!\", **sourceID**: parisa\n",
    "\n",
    "There are four short tweets retweeted by four users. The retweet between users form a directed graph with five nodes and four edges. E.g., the \"diane\" node has a directed edge to the \"bob\" node.\n",
    "\n",
    "You should build a graph by parsing the tweets in the file we provide called *HITS.json*.\n",
    "\n",
    "**Notes:**\n",
    "\n",
    "* You may see some weird characters in the content of tweets, just ignore them. \n",
    "* The edges are weighted and directed. If Bob retweets Alice's tweets 10 times, there is an edge from Bob to Alice with weight 10, but there is not an edge from Alice to Bob.\n",
    "* If a user retweets herself, ignore it.\n",
    "* Correctly parsing screen_name in a tweet is error-prone. Use the id of the user (this is the user who is re-tweeting) and the id of the user in the retweeted_status field (this is the user who is being re-tweeted; that is, this user created the original tweet).\n",
    "* Later you will need to implement the HITS algorithm on the graph you build here.\n"
   ]
  },
  {
   "cell_type": "code",
   "execution_count": 24,
   "metadata": {
    "collapsed": true,
    "scrolled": true
   },
   "outputs": [],
   "source": [
    "import urllib2\n",
    "import json\n",
    "import collections\n",
    "import numpy as np\n",
    "from urllib2 import urlopen\n",
    "from __future__ import print_function\n",
    "\n",
    "url = \"https://piazza.com/class_profile/get_resource/jc7ucudxx0r11/jdq56nwvvabp4\"\n",
    "\n",
    "response = urlopen(url)\n",
    "data = response.read()\n",
    "final_data = [s.strip() for s in data.splitlines()]\n",
    "\n",
    "node_rank = collections.defaultdict()\n",
    "hubs = set()\n",
    "graph = np.zeros((1003,1003))\n",
    "h_dict = {}\n",
    "a_dict = {}\n",
    "h_list = []\n",
    "a_list = []\n",
    "\n",
    "for x in final_data:\n",
    "    user = json.loads(x)\n",
    "    userId = user['user']['id']\n",
    "    sourceId = user['retweeted_status']['user']['id']\n",
    "    if userId != sourceId:\n",
    "        hubs.add(userId)\n",
    "        hubs.add(sourceId)\n",
    "\n",
    "i=0\n",
    "for hub in hubs:\n",
    "    node_rank[hub] = i\n",
    "    h_dict[hub] = 0\n",
    "    a_dict[hub] = 0\n",
    "    h_list.append(tuple((hub, 0)))\n",
    "    a_list.append(tuple((hub, 0)))\n",
    "    i+=1\n",
    "    \n",
    "for x in final_data:\n",
    "    user = json.loads(x)\n",
    "    userId = user['user']['id']\n",
    "    sourceId = user['retweeted_status']['user']['id']\n",
    "    if userId != sourceId:\n",
    "        graph[node_rank[userId]][node_rank[sourceId]] +=1"
   ]
  },
  {
   "cell_type": "markdown",
   "metadata": {
    "collapsed": true
   },
   "source": [
    "We will not check the correctness of your graph. However, this will affect the HITS results later."
   ]
  },
  {
   "cell_type": "markdown",
   "metadata": {},
   "source": [
    "## HITS Implementation\n",
    "\n",
    "Your program will return the top 10 users with highest hub and authority scores. The **output** should be like:\n",
    "\n",
    "Hub Scores\n",
    "\n",
    "* user1 - score1\n",
    "* user2 - score2\n",
    "* ...\n",
    "* user10 - score10\n",
    "\n",
    "Authority Scores\n",
    "\n",
    "* user1 - score1\n",
    "* user2 - score2\n",
    "* ...\n",
    "* user10 - score10\n",
    "\n",
    "You should follow these **rules**:\n",
    "\n",
    "* Assume all nodes start out with equal scores.\n",
    "* It is up to you to decide when to terminate the HITS calculation.\n",
    "* There are HITS implementations out there on the web. Remember, your code should be **your own**.\n",
    "\n",
    "\n",
    "**Hints**:\n",
    "* If you're using the matrix style approach, you should use [numpy.matrix](https://docs.scipy.org/doc/numpy/reference/generated/numpy.matrix.html).\n",
    "* Scipy is built on top of Numpy and has support for sparse matrices. You most likely will not need to use Scipy unless you'd like to try out their sparse matrices.\n",
    "* If you choose to use Numpy (and Scipy), please make sure your Anaconda environment include their latest versions.\n",
    "* Test your parsing and HITS calculations using a handful of tweets, before moving on to the entire file we provide.\n",
    "* We will evaluate the user ranks you provide as well as the quality of your code. So make sure that your code is clear and readable."
   ]
  },
  {
   "cell_type": "code",
   "execution_count": 32,
   "metadata": {
    "collapsed": true
   },
   "outputs": [],
   "source": [
    "# your code here\n",
    "import operator\n",
    "s = (1003,1)\n",
    "h = np.ones(s)\n",
    "for i in range(10000):\n",
    "    a = np.dot(np.transpose(graph),h)\n",
    "    h = np.dot(graph,a)\n",
    "    a = a/np.sum(a)\n",
    "    h = h/np.sum(h)\n",
    "\n",
    "for i in range(len(h)):\n",
    "    h_dict[h_list[i][0]] = float(h[i])\n",
    "    a_dict[a_list[i][0]] = float(a[i])\n",
    "\n",
    "sorted_h = sorted(h_dict.items(), key=operator.itemgetter(1),reverse=True)\n",
    "sorted_a = sorted(a_dict.items(), key=operator.itemgetter(1),reverse=True)\n"
   ]
  },
  {
   "cell_type": "code",
   "execution_count": 36,
   "metadata": {},
   "outputs": [
    {
     "name": "stdout",
     "output_type": "stream",
     "text": [
      "Top 10 Hub scores:\n",
      "# 1 (3068706044, 0.06461002796552665)\n",
      "# 2 (3093940760, 0.030708356925328948)\n",
      "# 3 (2194518394, 0.026945710535333872)\n",
      "# 4 (2862783698, 0.021005735950331943)\n",
      "# 5 (3092183276, 0.017680745885625796)\n",
      "# 6 (3029724797, 0.017314871502541268)\n",
      "# 7 (2990704188, 0.015318195195171498)\n",
      "# 8 (3001500121, 0.015016796720630781)\n",
      "# 9 (3086921438, 0.013391401117772157)\n",
      "# 10 (3042686360, 0.012988330068305246)\n"
     ]
    }
   ],
   "source": [
    "print(\"Top 10 Hub scores:\")\n",
    "for i in range(10):\n",
    "    print(\"#\",i+1,sorted_h[i])"
   ]
  },
  {
   "cell_type": "code",
   "execution_count": 37,
   "metadata": {},
   "outputs": [
    {
     "name": "stdout",
     "output_type": "stream",
     "text": [
      "Top 10 Authority scores:\n",
      "# 1 (3042570996, 0.1070915940976824)\n",
      "# 2 (3065514742, 0.09698300819613175)\n",
      "# 3 (1638625987, 0.08729174026106754)\n",
      "# 4 (3077733683, 0.05635351120367857)\n",
      "# 5 (3039321886, 0.04411153844791682)\n",
      "# 6 (3077695572, 0.02396653361993896)\n",
      "# 7 (3019659587, 0.02226440559921848)\n",
      "# 8 (1358345766, 0.01927630140445489)\n",
      "# 9 (3061155846, 0.018480679440477304)\n",
      "# 10 (3092580049, 0.018420500477813406)\n"
     ]
    }
   ],
   "source": [
    "print(\"Top 10 Authority scores:\")\n",
    "for i in range(10):\n",
    "    print(\"#\",i+1,sorted_a[i])"
   ]
  },
  {
   "cell_type": "markdown",
   "metadata": {},
   "source": [
    "# Part 2: Search Engine Optimization (30 + 5 points)"
   ]
  },
  {
   "cell_type": "markdown",
   "metadata": {},
   "source": [
    "For this part, your goal is to put on your \"[search engine optimization](https://en.wikipedia.org/wiki/Search_engine_optimization)\" hat. Your job is to create a webpage that scores highest for the query: **kbeznak parmatonic** --- two terms, lower case, no quote. As of today (Feb 16, 2018), there are no hits for this query on either Google or Bing. Based on our discussions of search engine ranking algorithms, you know that several factors may impact a page's rank. Your goal is to use this knowledge to promote your own page to the top of the list.\n",
    "\n",
    "What we're doing here is a form of [SEO contest](https://en.wikipedia.org/wiki/SEO_contest). While you have great latitude in how you approach this problem, you are not allowed to engage in any unethical or illegal behavior. Please read the discussion of \"white hat\" versus \"black hat\" SEO over at [Wikipedia](https://en.wikipedia.org/wiki/Search_engine_optimization#White_hat_versus_black_hat_techniques).\n",
    "\n",
    "\n",
    "**Rules of the game:**\n",
    "\n",
    "* Somewhere in the page (possibly in the non-viewable source html) you must include your name or some other way for us to identify you (e.g., your NetID, but not the UIN!).\n",
    "* Your target page may only be a TAMU student page, a page on your own webserver, a page on a standard blog platform (e.g., wordpress), or some other primarily user-controlled page\n",
    "* Your target page CAN NOT be a twitter account, a facebook page, a Yahoo Answers or similar page\n",
    "* No wikipedia vandalism\n",
    "* No yahoo/wiki answers questions\n",
    "* No comment spamming of blogs\n",
    "* If you have concerns/questions/clarifications, please post on Piazza and we will discuss\n",
    "\n",
    "For your homework turnin for this part, you should provide us the URL of your target page and a brief discussion (2-4 paragraphs) of the strategies you are using. We will issue the query and check the rankings at some undetermined time in the next couple of weeks. You might guess that major search engines take some time to discover and integrate new pages: if I were you, I'd get a target page up immediately.\n",
    "\n",
    "**Grading:**\n",
    "\n",
    "* 5 points for providing a valid URL\n",
    "* 20 points for a well-reasoned discussion of your strategy\n",
    "* 5 points for your page appearing in the search results by Google or Bing (no matter how is the ranking)\n",
    "\n",
    "** Bonus: **\n",
    "* 1 point for your page appearing in the top-20 on Google or Bing\n",
    "* 1 more point for your page appearing in the top-10 on Google or Bing\n",
    "* 1 more point for your page appearing in the top-5 on Google or Bing\n",
    "* 2 more points for your page being ranked first by Google or Bing. And, a vigorous announcement in class, and a high-five for having the top result!"
   ]
  },
  {
   "cell_type": "markdown",
   "metadata": {},
   "source": [
    "What's the URL of your page?\n",
    "\n",
    "http://people.tamu.edu/~yashvardhan/kbeznakparmatonic.html"
   ]
  },
  {
   "cell_type": "markdown",
   "metadata": {},
   "source": [
    "What's your strategy? (2-4 paragraphs)\n"
   ]
  },
  {
   "cell_type": "markdown",
   "metadata": {},
   "source": [
    "As we know from the PageRank algorithm, the more inlinks we are able to create for our page, the better it will rank on google search. So, I created my page on http://people.tamu.edu/~yashvardhan on tamu.edu and created other webpages using github webpages. Now I tried to link the other pages that I created to my webpage and tried to add the keyword \"kbeznak parmatonic\" in my webpage a number of times to improve its term-frequency, meanwhile also having a meaningful sentence creation. Also I added the keyword in the title which I think provides a good visibility on google.\n",
    "\n",
    "I created a post on Craigslist and tried to link my webpage to it. This helped me increase my visibility on google. Also, I have created a google maps page (submitting my website as a business) to link to my website. But it is still to be approved by google. I created a post on \"kbeznak parmatonic\" on the personal blog (https://yashvardhan90.github.io/2018-02-25-kbeznak-parmatonic/). The blog linked to my webpage and helped increased its inlinks, hence the pagerank. I have also asked my fellow classmates to link to my webpage and asked a lot of my friends to visit my webpage. \n",
    "\n",
    "I also looked for latest search trends on google and included those terms in my website. This will help me get visibility to a lot of users and thus help me increase my pagerank."
   ]
  }
 ],
 "metadata": {
  "anaconda-cloud": {},
  "kernelspec": {
   "display_name": "Python 3",
   "language": "python",
   "name": "python3"
  },
  "language_info": {
   "codemirror_mode": {
    "name": "ipython",
    "version": 3
   },
   "file_extension": ".py",
   "mimetype": "text/x-python",
   "name": "python",
   "nbconvert_exporter": "python",
   "pygments_lexer": "ipython3",
   "version": "3.6.3"
  }
 },
 "nbformat": 4,
 "nbformat_minor": 1
}
